{
 "cells": [
  {
   "cell_type": "code",
   "execution_count": 40,
   "metadata": {},
   "outputs": [
    {
     "data": {
      "image/png": "[encoded data removed]",
      "text/plain": [
       "<Figure size 432x288 with 1 Axes>"
      ]
     },
     "metadata": {
      "needs_background": "light"
     },
     "output_type": "display_data"
    }
   ],
   "source": [
    "import pandas as pd\n",
    "import numpy as np\n",
    "from scipy.stats import kurtosis\n",
    "from scipy.stats import skew\n",
    "import matplotlib.pyplot as plt\n",
    "\n",
    "data = pd.read_csv(\"train.csv\", index_col=\"Loan_ID\")\n",
    "\n",
    "fig, ax = plt.subplots()\n",
    "y_pos = np.arange(len(data['ApplicantIncome']))\n",
    "\n",
    "ax.barh(y_pos, data['ApplicantIncome'],align='center',\n",
    "        color='green', ecolor='black')\n",
    "ax.invert_yaxis()  # labels read top-to-bottom\n",
    "ax.set_xlabel('Performance')\n",
    "ax.set_title('How fast do you want to go today?')\n",
    "\n",
    "plt.show()"
   ]
  },
  {
   "cell_type": "code",
   "execution_count": 35,
   "metadata": {},
   "outputs": [
    {
     "data": {
      "text/plain": [
       "60.0390403937373"
      ]
     },
     "execution_count": 35,
     "metadata": {},
     "output_type": "execute_result"
    }
   ],
   "source": [
    "kurtosis(data['ApplicantIncome'])"
   ]
  },
  {
   "cell_type": "code",
   "execution_count": 36,
   "metadata": {},
   "outputs": [
    {
     "data": {
      "text/plain": [
       "6.523526250899361"
      ]
     },
     "execution_count": 36,
     "metadata": {},
     "output_type": "execute_result"
    }
   ],
   "source": [
    "skew(data['ApplicantIncome'])"
   ]
  },
  {
   "cell_type": "code",
   "execution_count": 37,
   "metadata": {},
   "outputs": [
    {
     "data": {
      "text/plain": [
       "Loan_ID\n",
       "LP001002     5849\n",
       "LP001003     4583\n",
       "LP001005     3000\n",
       "LP001006     2583\n",
       "LP001008     6000\n",
       "LP001011     5417\n",
       "LP001013     2333\n",
       "LP001014     3036\n",
       "LP001018     4006\n",
       "LP001020    12841\n",
       "LP001024     3200\n",
       "LP001027     2500\n",
       "LP001028     3073\n",
       "LP001029     1853\n",
       "LP001030     1299\n",
       "LP001032     4950\n",
       "LP001034     3596\n",
       "LP001036     3510\n",
       "LP001038     4887\n",
       "LP001041     2600\n",
       "LP001043     7660\n",
       "LP001046     5955\n",
       "LP001047     2600\n",
       "LP001050     3365\n",
       "LP001052     3717\n",
       "LP001066     9560\n",
       "LP001068     2799\n",
       "LP001073     4226\n",
       "LP001086     1442\n",
       "LP001087     3750\n",
       "            ...  \n",
       "LP002911     2787\n",
       "LP002912     4283\n",
       "LP002916     2297\n",
       "LP002917     2165\n",
       "LP002925     4750\n",
       "LP002926     2726\n",
       "LP002928     3000\n",
       "LP002931     6000\n",
       "LP002933     9357\n",
       "LP002936     3859\n",
       "LP002938    16120\n",
       "LP002940     3833\n",
       "LP002941     6383\n",
       "LP002943     2987\n",
       "LP002945     9963\n",
       "LP002948     5780\n",
       "LP002949      416\n",
       "LP002950     2894\n",
       "LP002953     5703\n",
       "LP002958     3676\n",
       "LP002959    12000\n",
       "LP002960     2400\n",
       "LP002961     3400\n",
       "LP002964     3987\n",
       "LP002974     3232\n",
       "LP002978     2900\n",
       "LP002979     4106\n",
       "LP002983     8072\n",
       "LP002984     7583\n",
       "LP002990     4583\n",
       "Name: ApplicantIncome, Length: 614, dtype: int64"
      ]
     },
     "execution_count": 37,
     "metadata": {},
     "output_type": "execute_result"
    }
   ],
   "source": [
    "data['ApplicantIncome']"
   ]
  },
  {
   "cell_type": "code",
   "execution_count": null,
   "metadata": {},
   "outputs": [],
   "source": []
  },
  {
   "cell_type": "code",
   "execution_count": 55,
   "metadata": {},
   "outputs": [],
   "source": [
    "w=np.array([1,2,3])"
   ]
  },
  {
   "cell_type": "code",
   "execution_count": 56,
   "metadata": {},
   "outputs": [],
   "source": [
    "q=w.view()"
   ]
  },
  {
   "cell_type": "code",
   "execution_count": 57,
   "metadata": {},
   "outputs": [],
   "source": [
    "q[1]=10\n"
   ]
  },
  {
   "cell_type": "code",
   "execution_count": 58,
   "metadata": {},
   "outputs": [
    {
     "data": {
      "text/plain": [
       "array([ 1, 10,  3])"
      ]
     },
     "execution_count": 58,
     "metadata": {},
     "output_type": "execute_result"
    }
   ],
   "source": [
    "q"
   ]
  },
  {
   "cell_type": "code",
   "execution_count": 59,
   "metadata": {},
   "outputs": [
    {
     "data": {
      "text/plain": [
       "array([ 1, 10,  3])"
      ]
     },
     "execution_count": 59,
     "metadata": {},
     "output_type": "execute_result"
    }
   ],
   "source": [
    "w"
   ]
  },
  {
   "cell_type": "code",
   "execution_count": null,
   "metadata": {},
   "outputs": [],
   "source": []
  }
 ],
 "metadata": {
  "kernelspec": {
   "display_name": "Python 3",
   "language": "python",
   "name": "python3"
  },
  "language_info": {
   "codemirror_mode": {
    "name": "ipython",
    "version": 3
   },
   "file_extension": ".py",
   "mimetype": "text/x-python",
   "name": "python",
   "nbconvert_exporter": "python",
   "pygments_lexer": "ipython3",
   "version": "3.7.1"
  }
 },
 "nbformat": 4,
 "nbformat_minor": 2
}
