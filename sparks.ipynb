{
 "cells": [
  {
   "cell_type": "code",
   "execution_count": 1,
   "metadata": {},
   "outputs": [
    {
     "ename": "SyntaxError",
     "evalue": "invalid syntax (<ipython-input-1-b3760f09f655>, line 1)",
     "output_type": "error",
     "traceback": [
      "\u001b[0;36m  File \u001b[0;32m\"<ipython-input-1-b3760f09f655>\"\u001b[0;36m, line \u001b[0;32m1\u001b[0m\n\u001b[0;31m    val conf = new SparkConf().setAppName(\"wiki_test\") // create a spark config object\u001b[0m\n\u001b[0m           ^\u001b[0m\n\u001b[0;31mSyntaxError\u001b[0m\u001b[0;31m:\u001b[0m invalid syntax\n"
     ]
    }
   ],
   "source": [
    "val conf = new SparkConf().setAppName(\"wiki_test\") # create a spark config object\n",
    "val sc = new SparkContext(conf) #Create a spark context\n",
    "val data = sc.textFile(\"/path/to/somedir\") # Read files from \"somedir\" into an RDD of (filename, content) pairs.\n",
    "val tokens = data.flatMap(_.split(\" \")) # Split each file into a list of tokens (words).\n",
    "val wordFreq = tokens.map((_, 1)).reduceByKey(_ + _) # Add a count of one to each token, then sum the counts per word type.\n",
    "wordFreq.sortBy(s => -s._2).map(x => (x._2, x._1)).top(10) # Get the top 10 words. Swap word and count to sort by count.\n"
   ]
  },
  {
   "cell_type": "code",
   "execution_count": null,
   "metadata": {},
   "outputs": [],
   "source": []
  }
 ],
 "metadata": {
  "kernelspec": {
   "display_name": "Python 3",
   "language": "python",
   "name": "python3"
  },
  "language_info": {
   "codemirror_mode": {
    "name": "ipython",
    "version": 3
   },
   "file_extension": ".py",
   "mimetype": "text/x-python",
   "name": "python",
   "nbconvert_exporter": "python",
   "pygments_lexer": "ipython3",
   "version": "3.7.1"
  }
 },
 "nbformat": 4,
 "nbformat_minor": 2
}
